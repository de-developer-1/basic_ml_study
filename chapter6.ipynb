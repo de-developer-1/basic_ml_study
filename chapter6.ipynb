{
  "nbformat": 4,
  "nbformat_minor": 0,
  "metadata": {
    "colab": {
      "name": "chapter6.ipynb",
      "provenance": [],
      "collapsed_sections": [],
      "authorship_tag": "ABX9TyP5VtYZEYFAyGkwVS8GxjsQ",
      "include_colab_link": true
    },
    "kernelspec": {
      "name": "python3",
      "display_name": "Python 3"
    },
    "language_info": {
      "name": "python"
    }
  },
  "cells": [
    {
      "cell_type": "markdown",
      "metadata": {
        "id": "view-in-github",
        "colab_type": "text"
      },
      "source": [
        "<a href=\"https://colab.research.google.com/github/de-developer-1/ml_study/blob/main/chapter6.ipynb\" target=\"_parent\"><img src=\"https://colab.research.google.com/assets/colab-badge.svg\" alt=\"Open In Colab\"/></a>"
      ]
    },
    {
      "cell_type": "code",
      "execution_count": 1,
      "metadata": {
        "id": "C1LsC_UdL0Gh"
      },
      "outputs": [],
      "source": [
        "#######################################\n",
        "# library\n",
        "#######################################\n",
        "import numpy as np\n",
        "import pandas as pd"
      ]
    },
    {
      "cell_type": "code",
      "source": [
        "#######################################\n",
        "# data\n",
        "#######################################\n",
        "s = pd.date_range('2020-01-06','2020-01-10',freq = '10H').to_series()\n",
        "features = {\n",
        "    \"dayofweek\": s.dt.day_of_week.values,\n",
        "    \"dayofyear\": s.dt.day_of_year.values,\n",
        "    \"hours\":s.dt.hour.values,\n",
        "    \"is_leap_year\":s.dt.is_leap_year.values,\n",
        "    \"quarter\":s.dt.quarter.values,\n",
        "    \"weekofyear\":s.dt.weekofyear.values\n",
        "}"
      ],
      "metadata": {
        "colab": {
          "base_uri": "https://localhost:8080/"
        },
        "id": "ftrZmOv-MCrh",
        "outputId": "187f6dc0-d06c-4874-9aa1-d8d53b682b6f"
      },
      "execution_count": 4,
      "outputs": [
        {
          "output_type": "stream",
          "name": "stderr",
          "text": [
            "/usr/local/lib/python3.7/dist-packages/ipykernel_launcher.py:11: FutureWarning: Series.dt.weekofyear and Series.dt.week have been deprecated.  Please use Series.dt.isocalendar().week instead.\n",
            "  # This is added back by InteractiveShellApp.init_path()\n"
          ]
        }
      ]
    },
    {
      "cell_type": "code",
      "source": [
        "s"
      ],
      "metadata": {
        "colab": {
          "base_uri": "https://localhost:8080/"
        },
        "id": "LwhcEW8mMaIK",
        "outputId": "5bfab0ca-7394-4d2a-bda1-82c05287c95e"
      },
      "execution_count": 3,
      "outputs": [
        {
          "output_type": "execute_result",
          "data": {
            "text/plain": [
              "2020-01-06 00:00:00   2020-01-06 00:00:00\n",
              "2020-01-06 10:00:00   2020-01-06 10:00:00\n",
              "2020-01-06 20:00:00   2020-01-06 20:00:00\n",
              "2020-01-07 06:00:00   2020-01-07 06:00:00\n",
              "2020-01-07 16:00:00   2020-01-07 16:00:00\n",
              "2020-01-08 02:00:00   2020-01-08 02:00:00\n",
              "2020-01-08 12:00:00   2020-01-08 12:00:00\n",
              "2020-01-08 22:00:00   2020-01-08 22:00:00\n",
              "2020-01-09 08:00:00   2020-01-09 08:00:00\n",
              "2020-01-09 18:00:00   2020-01-09 18:00:00\n",
              "Freq: 10H, dtype: datetime64[ns]"
            ]
          },
          "metadata": {},
          "execution_count": 3
        }
      ]
    },
    {
      "cell_type": "code",
      "source": [
        "features "
      ],
      "metadata": {
        "colab": {
          "base_uri": "https://localhost:8080/"
        },
        "id": "fqdJZiXpNMGx",
        "outputId": "612381d9-33f1-4f44-eb59-217ee379fd55"
      },
      "execution_count": 5,
      "outputs": [
        {
          "output_type": "execute_result",
          "data": {
            "text/plain": [
              "{'dayofweek': array([0, 0, 0, 1, 1, 2, 2, 2, 3, 3]),\n",
              " 'dayofyear': array([6, 6, 6, 7, 7, 8, 8, 8, 9, 9]),\n",
              " 'hours': array([ 0, 10, 20,  6, 16,  2, 12, 22,  8, 18]),\n",
              " 'is_leap_year': array([ True,  True,  True,  True,  True,  True,  True,  True,  True,\n",
              "         True]),\n",
              " 'quarter': array([1, 1, 1, 1, 1, 1, 1, 1, 1, 1]),\n",
              " 'weekofyear': array([2, 2, 2, 2, 2, 2, 2, 2, 2, 2])}"
            ]
          },
          "metadata": {},
          "execution_count": 5
        }
      ]
    },
    {
      "cell_type": "code",
      "source": [
        "#######################################\n",
        "# function\n",
        "#######################################\n",
        "def generate_features(df):\n",
        "  # data列からの特徴抽出\n",
        "  df.loc[:,'year'] = df['data'].dt.year\n",
        "  df.loc[:,'weekofyear'] = df['data'].dt.weekofyear\n",
        "  df.loc[:,'month'] = df['data'].dt.month\n",
        "  df.loc[:,'dayofweek'] = df['data'].dt.dayofweek\n",
        "  df.loc[:,'weekend'] = (df['data'].dt.weekend >= 5).astype(int)\n",
        "\n",
        "  # 集約辞書\n",
        "  aggs = {}\n",
        "  aggs['month'] = ['nunique','mean']\n",
        "  aggs['weekofyear'] = ['nunique','mean']\n",
        "  aggs['num1'] = ['sum','max','min','mean']\n",
        "  aggs['customer_id'] = ['size']\n",
        "  aggs['customer_id'] = ['nunique']\n",
        "\n",
        "  agg_df = df.groupby('customer_id').agg(aggs)\n",
        "  agg_df = agg_df.reset_index()\n",
        "  return agg_df"
      ],
      "metadata": {
        "id": "dfJczuV-NOQF"
      },
      "execution_count": 6,
      "outputs": []
    },
    {
      "cell_type": "code",
      "source": [
        ""
      ],
      "metadata": {
        "id": "bnKDfNUWPF3C"
      },
      "execution_count": null,
      "outputs": []
    }
  ]
}