{
  "nbformat": 4,
  "nbformat_minor": 0,
  "metadata": {
    "colab": {
      "name": "chapter5.ipynb",
      "provenance": [],
      "collapsed_sections": [],
      "authorship_tag": "ABX9TyMYBcALzKcOjaVfraZfQBuv",
      "include_colab_link": true
    },
    "kernelspec": {
      "name": "python3",
      "display_name": "Python 3"
    },
    "language_info": {
      "name": "python"
    }
  },
  "cells": [
    {
      "cell_type": "markdown",
      "metadata": {
        "id": "view-in-github",
        "colab_type": "text"
      },
      "source": [
        "<a href=\"https://colab.research.google.com/github/de-developer-1/ml_study/blob/main/chapter5.ipynb\" target=\"_parent\"><img src=\"https://colab.research.google.com/assets/colab-badge.svg\" alt=\"Open In Colab\"/></a>"
      ]
    },
    {
      "cell_type": "code",
      "execution_count": 1,
      "metadata": {
        "id": "BA3q_46UbFu2"
      },
      "outputs": [],
      "source": [
        "#######################################\n",
        "# library\n",
        "#######################################\n",
        "import pandas as pd"
      ]
    },
    {
      "cell_type": "code",
      "source": [
        "#######################################\n",
        "# data\n",
        "#######################################\n",
        "#data :https://www.kaggle.com/competitions/cat-in-the-dat-ii/data\n",
        "df = pd.read_csv(\"train.csv\")"
      ],
      "metadata": {
        "id": "bcZXj5aKbVsY"
      },
      "execution_count": 7,
      "outputs": []
    },
    {
      "cell_type": "code",
      "source": [
        "#######################################\n",
        "# mapping\n",
        "#######################################\n",
        "mapping = {\n",
        "    \"Freezing\":0,\n",
        "    \"Warm\":1,\n",
        "    \"Cold\":2,\n",
        "    \"Boiling Hot\":3,\n",
        "    \"Hot\":4,\n",
        "    \"Lava Hot\":5\n",
        "}\n",
        "df.loc[:,\"ord_2\"] = df.ord_2.map(mapping)\n",
        "df.ord_2.value_counts()"
      ],
      "metadata": {
        "colab": {
          "base_uri": "https://localhost:8080/"
        },
        "id": "oJe30YL6cXXb",
        "outputId": "84a28e4f-09bf-44d2-ea20-6fa9ab1db6e3"
      },
      "execution_count": 9,
      "outputs": [
        {
          "output_type": "execute_result",
          "data": {
            "text/plain": [
              "0.0    87524\n",
              "1.0    76755\n",
              "2.0    60222\n",
              "3.0    52183\n",
              "4.0    41504\n",
              "5.0    39822\n",
              "Name: ord_2, dtype: int64"
            ]
          },
          "metadata": {},
          "execution_count": 9
        }
      ]
    },
    {
      "cell_type": "code",
      "source": [
        "#######################################\n",
        "# label encoding\n",
        "#######################################\n",
        "from sklearn import preprocessing\n",
        "df = pd.read_csv(\"train.csv\")\n",
        "\n",
        "# 欠測値をNONE\n",
        "df.loc[:,\"ord_2\"] = df.ord_2.fillna(\"NONE\")\n",
        "\n",
        "# init\n",
        "lbl_enc = preprocessing.LabelEncoder()\n",
        "\n",
        "#値変換\n",
        "df.loc[:,\"ord_2\"] = lbl_enc.fit_transform(df.ord_2.values)"
      ],
      "metadata": {
        "id": "Dqla-S5vdAsn"
      },
      "execution_count": 10,
      "outputs": []
    },
    {
      "cell_type": "code",
      "source": [
        "# EntityEmbeddingをpytorchで実装\n",
        "# ref:https://kaeru-nantoka.hatenablog.com/entry/2019/08/28/053420"
      ],
      "metadata": {
        "id": "xAs6GOIseYDj"
      },
      "execution_count": 11,
      "outputs": []
    }
  ]
}