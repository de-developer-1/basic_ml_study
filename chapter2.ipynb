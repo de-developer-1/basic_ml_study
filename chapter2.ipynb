{
  "nbformat": 4,
  "nbformat_minor": 0,
  "metadata": {
    "colab": {
      "name": "chapter2.ipynb",
      "provenance": [],
      "collapsed_sections": [],
      "authorship_tag": "ABX9TyO2wwxdHsE3RPw74bnIm6MO",
      "include_colab_link": true
    },
    "kernelspec": {
      "name": "python3",
      "display_name": "Python 3"
    },
    "language_info": {
      "name": "python"
    }
  },
  "cells": [
    {
      "cell_type": "markdown",
      "metadata": {
        "id": "view-in-github",
        "colab_type": "text"
      },
      "source": [
        "<a href=\"https://colab.research.google.com/github/de-developer-1/ml_study/blob/main/chapter2.ipynb\" target=\"_parent\"><img src=\"https://colab.research.google.com/assets/colab-badge.svg\" alt=\"Open In Colab\"/></a>"
      ]
    },
    {
      "cell_type": "code",
      "execution_count": 2,
      "metadata": {
        "id": "Z5771c6gUl0L"
      },
      "outputs": [],
      "source": [
        "#######################################\n",
        "# dataset\n",
        "#######################################\n",
        "import pandas as pd\n",
        "df = pd.read_csv(\"data.csv\")"
      ]
    },
    {
      "cell_type": "code",
      "source": [
        "#######################################\n",
        "# mapping\n",
        "#######################################\n",
        "quality_mapping = {\n",
        "    3:0,\n",
        "    4:1,\n",
        "    5:2,\n",
        "    6:3,\n",
        "    7:4,\n",
        "    8:5,\n",
        "}\n",
        "# mapを用いることで辞書に基づいた値変換ができる\n",
        "df.loc[:,\"quality\"] = df.quality.map(quality_mapping)"
      ],
      "metadata": {
        "id": "dXT7IrxyVztx"
      },
      "execution_count": 3,
      "outputs": []
    },
    {
      "cell_type": "code",
      "source": [
        "#######################################\n",
        "# split\n",
        "#######################################\n",
        "df = df.sample(frac = 1).reset_index(drop = True)\n",
        "df_train = df.head(1000)\n",
        "df_test = df.tail(599)"
      ],
      "metadata": {
        "id": "5p7DgMv5WUmz"
      },
      "execution_count": 4,
      "outputs": []
    },
    {
      "cell_type": "code",
      "source": [
        "#######################################\n",
        "# trial 1\n",
        "#######################################\n",
        "from sklearn import tree\n",
        "from sklearn import metrics\n",
        "\n",
        "#　決定木\n",
        "clf = tree.DecisionTreeClassifier(max_depth=3)\n",
        "cols = ['fixed acidity', 'volatile acidity', 'citric acid', 'residual sugar',\n",
        "       'chlorides', 'free sulfur dioxide', 'total sulfur dioxide', 'density',\n",
        "       'pH', 'sulphates', 'alcohol']\n",
        "\n",
        "clf.fit(df_train[cols],df_train.quality)\n",
        "\n",
        "train_predictions = clf.predict(df_train[cols])\n",
        "test_predictions = clf.predict(df_test[cols])\n",
        "\n",
        "train_accuracy = metrics.accuracy_score(\n",
        "    df_train.quality,train_predictions\n",
        ")\n",
        "\n",
        "test_accuracy = metrics.accuracy_score(\n",
        "    df_test.quality,test_predictions\n",
        ")"
      ],
      "metadata": {
        "id": "toFVGRiQWw4a"
      },
      "execution_count": 5,
      "outputs": []
    },
    {
      "cell_type": "code",
      "source": [
        "#######################################\n",
        "# trial 2\n",
        "#######################################\n",
        "from sklearn import tree\n",
        "from sklearn import metrics\n",
        "import matplotlib\n",
        "import matplotlib.pyplot as plt\n",
        "import seaborn as sns\n",
        "\n",
        "matplotlib.rc('xtick',labelsize = 20)\n",
        "matplotlib.rc('ytick',labelsize = 20)\n",
        "\n",
        "%matplotlib inline\n",
        "\n",
        "train_accuracies = [0.5]\n",
        "test_accuracies = [0.5]\n",
        "\n",
        "cols = ['fixed acidity', 'volatile acidity', 'citric acid', 'residual sugar',\n",
        "       'chlorides', 'free sulfur dioxide', 'total sulfur dioxide', 'density',\n",
        "       'pH', 'sulphates', 'alcohol']\n",
        "\n",
        "for depth in range(1,25):\n",
        "  clf = tree.DecisionTreeClassifier(max_depth=depth)\n",
        "  clf.fit(df_train[cols],df_train.quality)\n",
        "  train_predictions = clf.predict(df_train[cols])\n",
        "  test_predictions = clf.predict(df_test[cols])\n",
        "  train_accuracy = metrics.accuracy_score(\n",
        "      df_train.quality,train_predictions\n",
        "      )\n",
        "  test_accuracy = metrics.accuracy_score(\n",
        "      df_test.quality,test_predictions\n",
        "      )\n",
        "  train_accuracies.append(train_accuracy)\n",
        "  test_accuracies.append(test_accuracy)\n"
      ],
      "metadata": {
        "id": "jn5UsPNBXVdh"
      },
      "execution_count": 6,
      "outputs": []
    },
    {
      "cell_type": "code",
      "source": [
        "#######################################\n",
        "# 可視化\n",
        "#######################################\n",
        "plt.figure(figsize = (10,5))\n",
        "sns.set_style(\"whitegrid\")\n",
        "\n",
        "plt.plot(train_accuracies,label = \"train acc\")\n",
        "plt.plot(test_accuracies,label = \"test acc\")\n",
        "plt.legend(loc = \"upper left\",prop = {'size':15})\n",
        "plt.xticks(range(0,26,5))\n",
        "plt.xlabel(\"max_depth\",size = 20)\n",
        "plt.ylabel(\"accuracy\",size = 20)\n",
        "plt.show()"
      ],
      "metadata": {
        "colab": {
          "base_uri": "https://localhost:8080/",
          "height": 353
        },
        "id": "_Su0jOmVanJ3",
        "outputId": "0be62398-dd5e-4839-d949-36b8cb818bcd"
      },
      "execution_count": 7,
      "outputs": [
        {
          "output_type": "display_data",
          "data": {
            "text/plain": [
              "<Figure size 720x360 with 1 Axes>"
            ],
            "image/png": "[encoded data removed]"
          },
          "metadata": {
            "needs_background": "light"
          }
        }
      ]
    },
    {
      "cell_type": "code",
      "source": [
        "#######################################\n",
        "# trial 3\n",
        "#######################################\n",
        "from sklearn import model_selection\n",
        "\n",
        "df = df_train\n",
        "df[\"kfold\"] = -1\n",
        "df = df.sample(frac = 1).reset_index(drop = True)\n",
        "\n",
        "kf = model_selection.KFold(n_splits=5)\n",
        "for fold,(trn_,val_) in enumerate(kf.split(X = df)):\n",
        "  df.loc[val_,'kfold'] = fold\n",
        "\n",
        "df.to_csv(\"train_folds.csv\",index = False)"
      ],
      "metadata": {
        "id": "fHG9_Mq5byja"
      },
      "execution_count": 9,
      "outputs": []
    },
    {
      "cell_type": "code",
      "source": [
        "#######################################\n",
        "# trial 4\n",
        "#######################################\n",
        "from sklearn import model_selection\n",
        "\n",
        "df = df_train\n",
        "df[\"kfold\"] = -1\n",
        "df = df.sample(frac = 1).reset_index(drop = True)\n",
        "\n",
        "y = df.quality.values\n",
        "\n",
        "kf = model_selection.StratifiedKFold(n_splits=5)\n",
        "\n",
        "for fold,(trn_,val_) in enumerate(kf.split(X = df,y = y)):\n",
        "  df.loc[val_,'kfold'] = fold\n",
        "\n",
        "df.to_csv(\"train_folds.csv\",index = False)"
      ],
      "metadata": {
        "id": "ejM3qQgkRC5Q"
      },
      "execution_count": 14,
      "outputs": []
    },
    {
      "cell_type": "code",
      "source": [
        "#######################################\n",
        "# 可視化\n",
        "#######################################\n",
        "b = sns.countplot(x = 'quality',data = df)\n",
        "b.set_xlabel('quality',fontsize = 20)\n",
        "b.set_ylabel('count',fontsize = 20)"
      ],
      "metadata": {
        "colab": {
          "base_uri": "https://localhost:8080/",
          "height": 315
        },
        "id": "_6Y81Rv7RtqV",
        "outputId": "2d9c3d58-5afe-481a-f458-29d424145564"
      },
      "execution_count": 15,
      "outputs": [
        {
          "output_type": "execute_result",
          "data": {
            "text/plain": [
              "Text(0, 0.5, 'count')"
            ]
          },
          "metadata": {},
          "execution_count": 15
        },
        {
          "output_type": "display_data",
          "data": {
            "text/plain": [
              "<Figure size 432x288 with 1 Axes>"
            ],
            "image/png": "[encoded data removed]"
          },
          "metadata": {}
        }
      ]
    },
    {
      "cell_type": "code",
      "source": [
        "#######################################\n",
        "# trial 5-1\n",
        "#######################################\n",
        "# 回帰問題でstratified k-fold\n",
        "import numpy as np\n",
        "import pandas as pd\n",
        "\n",
        "from sklearn import datasets\n",
        "from sklearn import model_selection\n",
        "\n",
        "def create_folds(data):\n",
        "  data = data.sample(frac = 1).reset_index(drop = True)\n",
        "  n_bins = int(np.floor(1 + np.log2(len(data))))\n",
        "\n",
        "  data.loc[:,\"bins\"] = pd.cut(\n",
        "      data[\"target\"],bins = n_bins,labels=False\n",
        "  )\n",
        "  kf = model_selection.StratifiedKFold(n_splits=5)\n",
        "  for fold,(trn_,val_) in enumerate(kf.split(X = data,y = data.bins.values)):\n",
        "    df.loc[val_,'kfold'] = fold\n",
        "  \n",
        "  data = data.drop(\"bins\",axis = 1)\n",
        "\n",
        "  return data"
      ],
      "metadata": {
        "id": "rPimpatOSiXL"
      },
      "execution_count": 26,
      "outputs": []
    },
    {
      "cell_type": "code",
      "source": [
        "#######################################\n",
        "# trial 5-2\n",
        "#######################################\n",
        "# 15000サンプルの回帰データセットを作成\n",
        "# 特徴量は100列で目的変数は１列\n",
        "X,y = datasets.make_regression(\n",
        "    n_samples=15000,n_features=100,n_targets=1\n",
        ")\n",
        "\n",
        "df = pd.DataFrame(\n",
        "    X,\n",
        "    columns=[f\"f_{i}\" for i in range(X.shape[1])]\n",
        ")\n",
        "\n",
        "df.loc[:,\"target\"] = y\n",
        "\n",
        "df = create_folds(df)"
      ],
      "metadata": {
        "id": "xNCAgiGfT01t"
      },
      "execution_count": 27,
      "outputs": []
    }
  ]
}