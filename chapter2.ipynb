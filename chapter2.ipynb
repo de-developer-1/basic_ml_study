{
  "nbformat": 4,
  "nbformat_minor": 0,
  "metadata": {
    "colab": {
      "name": "chapter2.ipynb",
      "provenance": [],
      "collapsed_sections": [],
      "authorship_tag": "ABX9TyOE/Rqo+8iHNpLDP2tzV71L",
      "include_colab_link": true
    },
    "kernelspec": {
      "name": "python3",
      "display_name": "Python 3"
    },
    "language_info": {
      "name": "python"
    }
  },
  "cells": [
    {
      "cell_type": "markdown",
      "metadata": {
        "id": "view-in-github",
        "colab_type": "text"
      },
      "source": [
        "<a href=\"https://colab.research.google.com/github/de-developer-1/ml_study/blob/main/chapter2.ipynb\" target=\"_parent\"><img src=\"https://colab.research.google.com/assets/colab-badge.svg\" alt=\"Open In Colab\"/></a>"
      ]
    },
    {
      "cell_type": "code",
      "execution_count": 4,
      "metadata": {
        "id": "Z5771c6gUl0L"
      },
      "outputs": [],
      "source": [
        "#######################################\n",
        "# dataset\n",
        "#######################################\n",
        "import pandas as pd\n",
        "df = pd.read_csv(\"data.csv\")"
      ]
    },
    {
      "cell_type": "code",
      "source": [
        "#######################################\n",
        "# mapping\n",
        "#######################################\n",
        "quality_mapping = {\n",
        "    3:0,\n",
        "    4:1,\n",
        "    5:2,\n",
        "    6:3,\n",
        "    7:4,\n",
        "    8:5,\n",
        "}\n",
        "# mapを用いることで辞書に基づいた値変換ができる\n",
        "df.loc[:,\"quality\"] = df.quality.map(quality_mapping)"
      ],
      "metadata": {
        "id": "dXT7IrxyVztx"
      },
      "execution_count": 7,
      "outputs": []
    },
    {
      "cell_type": "code",
      "source": [
        "#######################################\n",
        "# split\n",
        "#######################################\n",
        "df = df.sample(frac = 1).reset_index(drop = True)\n",
        "df_train = df.head(1000)\n",
        "df_test = df.tail(599)"
      ],
      "metadata": {
        "id": "5p7DgMv5WUmz"
      },
      "execution_count": 9,
      "outputs": []
    },
    {
      "cell_type": "code",
      "source": [
        "#######################################\n",
        "# trial 1\n",
        "#######################################\n",
        "from sklearn import tree\n",
        "from sklearn import metrics\n",
        "\n",
        "#　決定木\n",
        "clf = tree.DecisionTreeClassifier(max_depth=3)\n",
        "cols = ['fixed acidity', 'volatile acidity', 'citric acid', 'residual sugar',\n",
        "       'chlorides', 'free sulfur dioxide', 'total sulfur dioxide', 'density',\n",
        "       'pH', 'sulphates', 'alcohol']\n",
        "\n",
        "clf.fit(df_train[cols],df_train.quality)\n",
        "\n",
        "train_predictions = clf.predict(df_train[cols])\n",
        "test_predictions = clf.predict(df_test[cols])\n",
        "\n",
        "train_accuracy = metrics.accuracy_score(\n",
        "    df_train.quality,train_predictions\n",
        ")\n",
        "\n",
        "test_accuracy = metrics.accuracy_score(\n",
        "    df_test.quality,test_predictions\n",
        ")"
      ],
      "metadata": {
        "id": "toFVGRiQWw4a"
      },
      "execution_count": 13,
      "outputs": []
    },
    {
      "cell_type": "code",
      "source": [
        "#######################################\n",
        "# trial 2\n",
        "#######################################\n",
        "from sklearn import tree\n",
        "from sklearn import metrics\n",
        "import matplotlib\n",
        "import matplotlib.pyplot as plt\n",
        "import seaborn as sns\n",
        "\n",
        "matplotlib.rc('xtick',labelsize = 20)\n",
        "matplotlib.rc('ytick',labelsize = 20)\n",
        "\n",
        "%matplotlib inline\n",
        "\n",
        "train_accuracies = [0.5]\n",
        "test_accuracies = [0.5]\n",
        "\n",
        "cols = ['fixed acidity', 'volatile acidity', 'citric acid', 'residual sugar',\n",
        "       'chlorides', 'free sulfur dioxide', 'total sulfur dioxide', 'density',\n",
        "       'pH', 'sulphates', 'alcohol']\n",
        "\n",
        "for depth in range(1,25):\n",
        "  clf = tree.DecisionTreeClassifier(max_depth=depth)\n",
        "  clf.fit(df_train[cols],df_train.quality)\n",
        "  train_predictions = clf.predict(df_train[cols])\n",
        "  test_predictions = clf.predict(df_test[cols])\n",
        "  train_accuracy = metrics.accuracy_score(\n",
        "      df_train.quality,train_predictions\n",
        "      )\n",
        "  test_accuracy = metrics.accuracy_score(\n",
        "      df_test.quality,test_predictions\n",
        "      )\n",
        "  train_accuracies.append(train_accuracy)\n",
        "  test_accuracies.append(test_accuracy)\n"
      ],
      "metadata": {
        "id": "jn5UsPNBXVdh"
      },
      "execution_count": 15,
      "outputs": []
    },
    {
      "cell_type": "code",
      "source": [
        "#######################################\n",
        "# 可視化\n",
        "#######################################\n",
        "plt.figure(figsize = (10,5))\n",
        "sns.set_style(\"whitegrid\")\n",
        "\n",
        "plt.plot(train_accuracies,label = \"train acc\")\n",
        "plt.plot(test_accuracies,label = \"test acc\")\n",
        "plt.legend(loc = \"upper left\",prop = {'size':15})\n",
        "plt.xticks(range(0,26,5))\n",
        "plt.xlabel(\"max_depth\",size = 20)\n",
        "plt.ylabel(\"accuracy\",size = 20)\n",
        "plt.show()"
      ],
      "metadata": {
        "colab": {
          "base_uri": "https://localhost:8080/",
          "height": 353
        },
        "id": "_Su0jOmVanJ3",
        "outputId": "a40536e7-4031-4da3-b0a3-fc39f13a098c"
      },
      "execution_count": 18,
      "outputs": [
        {
          "output_type": "display_data",
          "data": {
            "text/plain": [
              "<Figure size 720x360 with 1 Axes>"
            ],
            "image/png": "[encoded data removed]"
          },
          "metadata": {}
        }
      ]
    },
    {
      "cell_type": "code",
      "source": [
        ""
      ],
      "metadata": {
        "id": "fHG9_Mq5byja"
      },
      "execution_count": null,
      "outputs": []
    }
  ]
}