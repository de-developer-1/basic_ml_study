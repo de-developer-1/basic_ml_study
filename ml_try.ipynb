{
  "nbformat": 4,
  "nbformat_minor": 0,
  "metadata": {
    "colab": {
      "name": "ml_try.ipynb",
      "provenance": [],
      "authorship_tag": "ABX9TyPzEAAn7Lu7ZvFtMn02NNb7",
      "include_colab_link": true
    },
    "kernelspec": {
      "name": "python3",
      "display_name": "Python 3"
    },
    "language_info": {
      "name": "python"
    }
  },
  "cells": [
    {
      "cell_type": "markdown",
      "metadata": {
        "id": "view-in-github",
        "colab_type": "text"
      },
      "source": [
        "<a href=\"https://colab.research.google.com/github/de-developer-1/ml_study/blob/main/ml_try.ipynb\" target=\"_parent\"><img src=\"https://colab.research.google.com/assets/colab-badge.svg\" alt=\"Open In Colab\"/></a>"
      ]
    },
    {
      "cell_type": "markdown",
      "source": [
        "Library"
      ],
      "metadata": {
        "id": "gJ51d5vLglNS"
      }
    },
    {
      "cell_type": "code",
      "source": [
        "!pip install sklearn\n",
        "!pip install obp\n"
      ],
      "metadata": {
        "colab": {
          "base_uri": "https://localhost:8080/"
        },
        "id": "tW9AUuaog7RV",
        "outputId": "77be2118-a089-4024-abfd-8d17783ce3e7"
      },
      "execution_count": null,
      "outputs": [
        {
          "output_type": "stream",
          "name": "stdout",
          "text": [
            "Requirement already satisfied: sklearn in /usr/local/lib/python3.7/dist-packages (0.0)\n",
            "Requirement already satisfied: scikit-learn in /usr/local/lib/python3.7/dist-packages (from sklearn) (1.0.2)\n",
            "Requirement already satisfied: threadpoolctl>=2.0.0 in /usr/local/lib/python3.7/dist-packages (from scikit-learn->sklearn) (3.1.0)\n",
            "Requirement already satisfied: joblib>=0.11 in /usr/local/lib/python3.7/dist-packages (from scikit-learn->sklearn) (1.1.0)\n",
            "Requirement already satisfied: scipy>=1.1.0 in /usr/local/lib/python3.7/dist-packages (from scikit-learn->sklearn) (1.7.3)\n",
            "Requirement already satisfied: numpy>=1.14.6 in /usr/local/lib/python3.7/dist-packages (from scikit-learn->sklearn) (1.21.5)\n",
            "Requirement already satisfied: obp in /usr/local/lib/python3.7/dist-packages (0.5.2)\n",
            "Requirement already satisfied: scikit-learn==1.0.2 in /usr/local/lib/python3.7/dist-packages (from obp) (1.0.2)\n",
            "Requirement already satisfied: pandas<2.0.0,>=1.3.2 in /usr/local/lib/python3.7/dist-packages (from obp) (1.3.5)\n",
            "Requirement already satisfied: tqdm<5.0.0,>=4.62.2 in /usr/local/lib/python3.7/dist-packages (from obp) (4.63.0)\n",
            "Requirement already satisfied: seaborn<0.12.0,>=0.11.2 in /usr/local/lib/python3.7/dist-packages (from obp) (0.11.2)\n",
            "Requirement already satisfied: PyYAML<6.0.0,>=5.4.1 in /usr/local/lib/python3.7/dist-packages (from obp) (5.4.1)\n",
            "Requirement already satisfied: scipy==1.7.3 in /usr/local/lib/python3.7/dist-packages (from obp) (1.7.3)\n",
            "Requirement already satisfied: pingouin<0.5.0,>=0.4.0 in /usr/local/lib/python3.7/dist-packages (from obp) (0.4.0)\n",
            "Requirement already satisfied: numpy<2.0.0,>=1.21.2 in /usr/local/lib/python3.7/dist-packages (from obp) (1.21.5)\n",
            "Requirement already satisfied: Pillow==9.0.0 in /usr/local/lib/python3.7/dist-packages (from obp) (9.0.0)\n",
            "Requirement already satisfied: mypy-extensions<0.5.0,>=0.4.3 in /usr/local/lib/python3.7/dist-packages (from obp) (0.4.3)\n",
            "Requirement already satisfied: matplotlib<4.0.0,>=3.4.3 in /usr/local/lib/python3.7/dist-packages (from obp) (3.5.1)\n",
            "Requirement already satisfied: pyieoe<0.2.0,>=0.1.1 in /usr/local/lib/python3.7/dist-packages (from obp) (0.1.1)\n",
            "Requirement already satisfied: torch<2.0.0,>=1.9.0 in /usr/local/lib/python3.7/dist-packages (from obp) (1.10.0+cu111)\n",
            "Requirement already satisfied: threadpoolctl>=2.0.0 in /usr/local/lib/python3.7/dist-packages (from scikit-learn==1.0.2->obp) (3.1.0)\n",
            "Requirement already satisfied: joblib>=0.11 in /usr/local/lib/python3.7/dist-packages (from scikit-learn==1.0.2->obp) (1.1.0)\n",
            "Requirement already satisfied: pyparsing>=2.2.1 in /usr/local/lib/python3.7/dist-packages (from matplotlib<4.0.0,>=3.4.3->obp) (3.0.7)\n",
            "Requirement already satisfied: python-dateutil>=2.7 in /usr/local/lib/python3.7/dist-packages (from matplotlib<4.0.0,>=3.4.3->obp) (2.8.2)\n",
            "Requirement already satisfied: kiwisolver>=1.0.1 in /usr/local/lib/python3.7/dist-packages (from matplotlib<4.0.0,>=3.4.3->obp) (1.4.0)\n",
            "Requirement already satisfied: cycler>=0.10 in /usr/local/lib/python3.7/dist-packages (from matplotlib<4.0.0,>=3.4.3->obp) (0.11.0)\n",
            "Requirement already satisfied: packaging>=20.0 in /usr/local/lib/python3.7/dist-packages (from matplotlib<4.0.0,>=3.4.3->obp) (21.3)\n",
            "Requirement already satisfied: fonttools>=4.22.0 in /usr/local/lib/python3.7/dist-packages (from matplotlib<4.0.0,>=3.4.3->obp) (4.31.2)\n",
            "Requirement already satisfied: typing-extensions in /usr/local/lib/python3.7/dist-packages (from kiwisolver>=1.0.1->matplotlib<4.0.0,>=3.4.3->obp) (3.10.0.2)\n",
            "Requirement already satisfied: pytz>=2017.3 in /usr/local/lib/python3.7/dist-packages (from pandas<2.0.0,>=1.3.2->obp) (2018.9)\n",
            "Requirement already satisfied: outdated in /usr/local/lib/python3.7/dist-packages (from pingouin<0.5.0,>=0.4.0->obp) (0.2.1)\n",
            "Requirement already satisfied: pandas-flavor>=0.2.0 in /usr/local/lib/python3.7/dist-packages (from pingouin<0.5.0,>=0.4.0->obp) (0.2.0)\n",
            "Requirement already satisfied: tabulate in /usr/local/lib/python3.7/dist-packages (from pingouin<0.5.0,>=0.4.0->obp) (0.8.9)\n",
            "Requirement already satisfied: statsmodels>=0.12.0 in /usr/local/lib/python3.7/dist-packages (from pingouin<0.5.0,>=0.4.0->obp) (0.13.2)\n",
            "Requirement already satisfied: xarray in /usr/local/lib/python3.7/dist-packages (from pandas-flavor>=0.2.0->pingouin<0.5.0,>=0.4.0->obp) (0.18.2)\n",
            "Requirement already satisfied: six>=1.5 in /usr/local/lib/python3.7/dist-packages (from python-dateutil>=2.7->matplotlib<4.0.0,>=3.4.3->obp) (1.15.0)\n",
            "Requirement already satisfied: patsy>=0.5.2 in /usr/local/lib/python3.7/dist-packages (from statsmodels>=0.12.0->pingouin<0.5.0,>=0.4.0->obp) (0.5.2)\n",
            "Requirement already satisfied: requests in /usr/local/lib/python3.7/dist-packages (from outdated->pingouin<0.5.0,>=0.4.0->obp) (2.23.0)\n",
            "Requirement already satisfied: littleutils in /usr/local/lib/python3.7/dist-packages (from outdated->pingouin<0.5.0,>=0.4.0->obp) (0.2.2)\n",
            "Requirement already satisfied: idna<3,>=2.5 in /usr/local/lib/python3.7/dist-packages (from requests->outdated->pingouin<0.5.0,>=0.4.0->obp) (2.10)\n",
            "Requirement already satisfied: certifi>=2017.4.17 in /usr/local/lib/python3.7/dist-packages (from requests->outdated->pingouin<0.5.0,>=0.4.0->obp) (2021.10.8)\n",
            "Requirement already satisfied: chardet<4,>=3.0.2 in /usr/local/lib/python3.7/dist-packages (from requests->outdated->pingouin<0.5.0,>=0.4.0->obp) (3.0.4)\n",
            "Requirement already satisfied: urllib3!=1.25.0,!=1.25.1,<1.26,>=1.21.1 in /usr/local/lib/python3.7/dist-packages (from requests->outdated->pingouin<0.5.0,>=0.4.0->obp) (1.24.3)\n",
            "Requirement already satisfied: setuptools>=40.4 in /usr/local/lib/python3.7/dist-packages (from xarray->pandas-flavor>=0.2.0->pingouin<0.5.0,>=0.4.0->obp) (57.4.0)\n",
            "Requirement already satisfied: scipy in /usr/local/lib/python3.7/dist-packages (1.7.3)\n",
            "Requirement already satisfied: numpy<1.23.0,>=1.16.5 in /usr/local/lib/python3.7/dist-packages (from scipy) (1.21.5)\n"
          ]
        }
      ]
    },
    {
      "cell_type": "code",
      "source": [
        "!pip install obp"
      ],
      "metadata": {
        "colab": {
          "base_uri": "https://localhost:8080/"
        },
        "id": "BwvPVX6x7Lww",
        "outputId": "44d8594d-b227-4f36-cb6d-82c927cbe440"
      },
      "execution_count": null,
      "outputs": [
        {
          "output_type": "stream",
          "name": "stdout",
          "text": [
            "Requirement already satisfied: obp in /usr/local/lib/python3.7/dist-packages (0.5.2)\n",
            "Requirement already satisfied: pingouin<0.5.0,>=0.4.0 in /usr/local/lib/python3.7/dist-packages (from obp) (0.4.0)\n",
            "Requirement already satisfied: PyYAML<6.0.0,>=5.4.1 in /usr/local/lib/python3.7/dist-packages (from obp) (5.4.1)\n",
            "Requirement already satisfied: mypy-extensions<0.5.0,>=0.4.3 in /usr/local/lib/python3.7/dist-packages (from obp) (0.4.3)\n",
            "Requirement already satisfied: pandas<2.0.0,>=1.3.2 in /usr/local/lib/python3.7/dist-packages (from obp) (1.3.5)\n",
            "Requirement already satisfied: scikit-learn==1.0.2 in /usr/local/lib/python3.7/dist-packages (from obp) (1.0.2)\n",
            "Requirement already satisfied: seaborn<0.12.0,>=0.11.2 in /usr/local/lib/python3.7/dist-packages (from obp) (0.11.2)\n",
            "Requirement already satisfied: scipy==1.7.3 in /usr/local/lib/python3.7/dist-packages (from obp) (1.7.3)\n",
            "Requirement already satisfied: tqdm<5.0.0,>=4.62.2 in /usr/local/lib/python3.7/dist-packages (from obp) (4.63.0)\n",
            "Requirement already satisfied: matplotlib<4.0.0,>=3.4.3 in /usr/local/lib/python3.7/dist-packages (from obp) (3.5.1)\n",
            "Requirement already satisfied: torch<2.0.0,>=1.9.0 in /usr/local/lib/python3.7/dist-packages (from obp) (1.10.0+cu111)\n",
            "Requirement already satisfied: Pillow==9.0.0 in /usr/local/lib/python3.7/dist-packages (from obp) (9.0.0)\n",
            "Requirement already satisfied: pyieoe<0.2.0,>=0.1.1 in /usr/local/lib/python3.7/dist-packages (from obp) (0.1.1)\n",
            "Requirement already satisfied: numpy<2.0.0,>=1.21.2 in /usr/local/lib/python3.7/dist-packages (from obp) (1.21.5)\n",
            "Requirement already satisfied: joblib>=0.11 in /usr/local/lib/python3.7/dist-packages (from scikit-learn==1.0.2->obp) (1.1.0)\n",
            "Requirement already satisfied: threadpoolctl>=2.0.0 in /usr/local/lib/python3.7/dist-packages (from scikit-learn==1.0.2->obp) (3.1.0)\n",
            "Requirement already satisfied: fonttools>=4.22.0 in /usr/local/lib/python3.7/dist-packages (from matplotlib<4.0.0,>=3.4.3->obp) (4.31.2)\n",
            "Requirement already satisfied: python-dateutil>=2.7 in /usr/local/lib/python3.7/dist-packages (from matplotlib<4.0.0,>=3.4.3->obp) (2.8.2)\n",
            "Requirement already satisfied: packaging>=20.0 in /usr/local/lib/python3.7/dist-packages (from matplotlib<4.0.0,>=3.4.3->obp) (21.3)\n",
            "Requirement already satisfied: cycler>=0.10 in /usr/local/lib/python3.7/dist-packages (from matplotlib<4.0.0,>=3.4.3->obp) (0.11.0)\n",
            "Requirement already satisfied: pyparsing>=2.2.1 in /usr/local/lib/python3.7/dist-packages (from matplotlib<4.0.0,>=3.4.3->obp) (3.0.7)\n",
            "Requirement already satisfied: kiwisolver>=1.0.1 in /usr/local/lib/python3.7/dist-packages (from matplotlib<4.0.0,>=3.4.3->obp) (1.4.0)\n",
            "Requirement already satisfied: typing-extensions in /usr/local/lib/python3.7/dist-packages (from kiwisolver>=1.0.1->matplotlib<4.0.0,>=3.4.3->obp) (3.10.0.2)\n",
            "Requirement already satisfied: pytz>=2017.3 in /usr/local/lib/python3.7/dist-packages (from pandas<2.0.0,>=1.3.2->obp) (2018.9)\n",
            "Requirement already satisfied: statsmodels>=0.12.0 in /usr/local/lib/python3.7/dist-packages (from pingouin<0.5.0,>=0.4.0->obp) (0.13.2)\n",
            "Requirement already satisfied: tabulate in /usr/local/lib/python3.7/dist-packages (from pingouin<0.5.0,>=0.4.0->obp) (0.8.9)\n",
            "Requirement already satisfied: pandas-flavor>=0.2.0 in /usr/local/lib/python3.7/dist-packages (from pingouin<0.5.0,>=0.4.0->obp) (0.2.0)\n",
            "Requirement already satisfied: outdated in /usr/local/lib/python3.7/dist-packages (from pingouin<0.5.0,>=0.4.0->obp) (0.2.1)\n",
            "Requirement already satisfied: xarray in /usr/local/lib/python3.7/dist-packages (from pandas-flavor>=0.2.0->pingouin<0.5.0,>=0.4.0->obp) (0.18.2)\n",
            "Requirement already satisfied: six>=1.5 in /usr/local/lib/python3.7/dist-packages (from python-dateutil>=2.7->matplotlib<4.0.0,>=3.4.3->obp) (1.15.0)\n",
            "Requirement already satisfied: patsy>=0.5.2 in /usr/local/lib/python3.7/dist-packages (from statsmodels>=0.12.0->pingouin<0.5.0,>=0.4.0->obp) (0.5.2)\n",
            "Requirement already satisfied: littleutils in /usr/local/lib/python3.7/dist-packages (from outdated->pingouin<0.5.0,>=0.4.0->obp) (0.2.2)\n",
            "Requirement already satisfied: requests in /usr/local/lib/python3.7/dist-packages (from outdated->pingouin<0.5.0,>=0.4.0->obp) (2.23.0)\n",
            "Requirement already satisfied: urllib3!=1.25.0,!=1.25.1,<1.26,>=1.21.1 in /usr/local/lib/python3.7/dist-packages (from requests->outdated->pingouin<0.5.0,>=0.4.0->obp) (1.24.3)\n",
            "Requirement already satisfied: chardet<4,>=3.0.2 in /usr/local/lib/python3.7/dist-packages (from requests->outdated->pingouin<0.5.0,>=0.4.0->obp) (3.0.4)\n",
            "Requirement already satisfied: certifi>=2017.4.17 in /usr/local/lib/python3.7/dist-packages (from requests->outdated->pingouin<0.5.0,>=0.4.0->obp) (2021.10.8)\n",
            "Requirement already satisfied: idna<3,>=2.5 in /usr/local/lib/python3.7/dist-packages (from requests->outdated->pingouin<0.5.0,>=0.4.0->obp) (2.10)\n",
            "Requirement already satisfied: setuptools>=40.4 in /usr/local/lib/python3.7/dist-packages (from xarray->pandas-flavor>=0.2.0->pingouin<0.5.0,>=0.4.0->obp) (57.4.0)\n"
          ]
        }
      ]
    },
    {
      "cell_type": "code",
      "source": [
        "!pip install scipy"
      ],
      "metadata": {
        "colab": {
          "base_uri": "https://localhost:8080/"
        },
        "id": "Vwir9lvM8x44",
        "outputId": "330bb6b1-8c36-4ffb-bcd6-2276c9e3de84"
      },
      "execution_count": null,
      "outputs": [
        {
          "output_type": "stream",
          "name": "stdout",
          "text": [
            "Requirement already satisfied: scipy in /usr/local/lib/python3.7/dist-packages (1.7.3)\n",
            "Requirement already satisfied: numpy<1.23.0,>=1.16.5 in /usr/local/lib/python3.7/dist-packages (from scipy) (1.21.5)\n"
          ]
        }
      ]
    },
    {
      "cell_type": "code",
      "source": [
        "# 必要なパッケージやモジュールをインポート\n",
        "from sklearn.linear_model import LogisticRegression\n",
        "\n",
        "from obp.dataset import (\n",
        "    SyntheticBanditDataset,\n",
        "    logistic_reward_function,\n",
        "    linear_behavior_policy\n",
        ")\n",
        "from obp.policy import IPWLearner, Random\n",
        "from obp.ope import (\n",
        "    OffPolicyEvaluation, \n",
        "    RegressionModel,\n",
        "    InverseProbabilityWeighting as IPS,\n",
        "    DoublyRobust as DR\n",
        ")"
      ],
      "metadata": {
        "id": "fHtTb-SKgkxC"
      },
      "execution_count": null,
      "outputs": []
    },
    {
      "cell_type": "markdown",
      "source": [
        ""
      ],
      "metadata": {
        "id": "1Ux5wQ2QgjxW"
      }
    },
    {
      "cell_type": "code",
      "source": [
        "# `SyntheticBanditDataset`を用いて人工データを生成する\n",
        "dataset = SyntheticBanditDataset(\n",
        "    n_actions=3, # 人工データにおける行動の数\n",
        "    dim_context=3, # 人工データにおける特徴量の次元数\n",
        "    reward_function=logistic_reward_function, # 目的変数を生成する関数\n",
        "    behavior_policy_function=linear_behavior_policy, # 過去の意思決定モデル\\pi_bによる行動選択確率を生成する関数\n",
        "    random_state=12345,\n",
        ")\n",
        "\n",
        "# トレーニングデータとバリデーションデータを生成する\n",
        "training_data = dataset.obtain_batch_bandit_feedback(n_rounds=10000)\n",
        "validation_data = dataset.obtain_batch_bandit_feedback(n_rounds=10000)\n",
        "\n",
        "# `training_data`の中身を確認する\n",
        "training_data"
      ],
      "metadata": {
        "colab": {
          "base_uri": "https://localhost:8080/"
        },
        "id": "PJoFYqk4ghzs",
        "outputId": "1863d931-a55c-4301-ab2b-ac1a6d25b33b"
      },
      "execution_count": null,
      "outputs": [
        {
          "output_type": "execute_result",
          "data": {
            "text/plain": [
              "{'action': array([2, 1, 0, ..., 0, 0, 2]), 'action_context': array([[1, 0, 0],\n",
              "        [0, 1, 0],\n",
              "        [0, 0, 1]]), 'context': array([[-0.20470766,  0.47894334, -0.51943872],\n",
              "        [-0.5557303 ,  1.96578057,  1.39340583],\n",
              "        [ 0.09290788,  0.28174615,  0.76902257],\n",
              "        ...,\n",
              "        [ 0.42468038,  0.48214752, -0.57647866],\n",
              "        [-0.51595888, -1.58196174, -1.39237837],\n",
              "        [-0.74213546, -0.93858948,  0.03919589]]), 'expected_reward': array([[0.52082575, 0.66775068, 0.61761261],\n",
              "        [0.76047843, 0.79422058, 0.58787262],\n",
              "        [0.44214588, 0.5228099 , 0.46080062],\n",
              "        ...,\n",
              "        [0.35186145, 0.53573516, 0.54080877],\n",
              "        [0.39942913, 0.54329503, 0.6174165 ],\n",
              "        [0.54430233, 0.60056731, 0.56493023]]), 'n_actions': 3, 'n_rounds': 10000, 'pi_b': array([[[0.31046875],\n",
              "         [0.34759217],\n",
              "         [0.34193909]],\n",
              " \n",
              "        [[0.27233556],\n",
              "         [0.36713323],\n",
              "         [0.36053121]],\n",
              " \n",
              "        [[0.31443661],\n",
              "         [0.36905853],\n",
              "         [0.31650486]],\n",
              " \n",
              "        ...,\n",
              " \n",
              "        [[0.29858222],\n",
              "         [0.34226718],\n",
              "         [0.3591506 ]],\n",
              " \n",
              "        [[0.38696268],\n",
              "         [0.34808204],\n",
              "         [0.26495528]],\n",
              " \n",
              "        [[0.37011639],\n",
              "         [0.36849075],\n",
              "         [0.26139287]]]), 'position': None, 'pscore': array([0.34193909, 0.36713323, 0.31443661, ..., 0.29858222, 0.38696268,\n",
              "        0.26139287]), 'reward': array([1, 1, 0, ..., 0, 0, 0])}"
            ]
          },
          "metadata": {},
          "execution_count": 12
        }
      ]
    },
    {
      "cell_type": "code",
      "source": [
        "%%time\n",
        "# 「IPWLearner+ロジスティック回帰」を定義\n",
        "ipw_learner = IPWLearner(\n",
        "    n_actions=dataset.n_actions,\n",
        "    base_classifier=LogisticRegression(C=100, random_state=12345)\n",
        ")\n",
        "\n",
        "# トレーニングデータを用いて、意思決定意思決定モデルを学習\n",
        "ipw_learner.fit(\n",
        "    context=training_data[\"context\"], # 特徴量\n",
        "    action=training_data[\"action\"], # 過去の意思決定モデル\\pi_bによる行動選択\n",
        "    reward=training_data[\"reward\"], # 観測される目的変数\n",
        "    pscore=training_data[\"pscore\"], # 過去の意思決定モデル\\pi_bによる行動選択確率(傾向スコア)\n",
        ")\n",
        "\n",
        "# バリデーションデータに対して行動を選択する\n",
        "action_choice_by_ipw_learner = ipw_learner.predict(\n",
        "    context=validation_data[\"context\"],\n",
        ")"
      ],
      "metadata": {
        "colab": {
          "base_uri": "https://localhost:8080/"
        },
        "id": "4POU-FPK6iTC",
        "outputId": "c991fc5d-396c-4852-a1f6-5bb485a76514"
      },
      "execution_count": null,
      "outputs": [
        {
          "output_type": "stream",
          "name": "stdout",
          "text": [
            "CPU times: user 34 ms, sys: 0 ns, total: 34 ms\n",
            "Wall time: 35.2 ms\n"
          ]
        }
      ]
    },
    {
      "cell_type": "code",
      "source": [
        "%%time\n",
        "# ランダム意思決定モデルを定義\n",
        "random = Random(n_actions=dataset.n_actions)\n",
        "\n",
        "# バリデーションデータに対する行動選択確率を計算する\n",
        "action_choice_by_random = random.compute_batch_action_dist(\n",
        "    n_rounds=validation_data[\"n_rounds\"]\n",
        ")"
      ],
      "metadata": {
        "colab": {
          "base_uri": "https://localhost:8080/"
        },
        "id": "SrIwEshf6qT8",
        "outputId": "950b564b-97f9-40d4-af0d-f8ce76f95c8a"
      },
      "execution_count": null,
      "outputs": [
        {
          "output_type": "stream",
          "name": "stdout",
          "text": [
            "CPU times: user 632 µs, sys: 0 ns, total: 632 µs\n",
            "Wall time: 512 µs\n"
          ]
        }
      ]
    },
    {
      "cell_type": "code",
      "source": [
        "%%time\n",
        "# DR推定量に必要な目的変数予測モデルを得る\n",
        "# opeモジュールに実装されている`RegressionModel`に好みの機械学習手法を与えば良い\n",
        "regression_model = RegressionModel(\n",
        "    n_actions=dataset.n_actions, # 行動の数\n",
        "    base_model=LogisticRegression(C=100, random_state=12345), # ロジスティック回帰を使用\n",
        ")\n",
        "\n",
        "# `fit_predict`メソッドにより、バリデーションデータにおける期待報酬を推定\n",
        "estimated_rewards_by_reg_model = regression_model.fit_predict(\n",
        "    context=validation_data[\"context\"], # 特徴量\n",
        "    action=validation_data[\"action\"], # 過去の意思決定モデル\\pi_bによる行動選択\n",
        "    reward=validation_data[\"reward\"], # 観測される目的変数\n",
        "    random_state=12345,\n",
        ")"
      ],
      "metadata": {
        "colab": {
          "base_uri": "https://localhost:8080/"
        },
        "id": "juEQT6Ht9L7c",
        "outputId": "f0f944a9-0b22-477d-b888-4b23581e7565"
      },
      "execution_count": null,
      "outputs": [
        {
          "output_type": "stream",
          "name": "stdout",
          "text": [
            "CPU times: user 25.4 ms, sys: 17.9 ms, total: 43.3 ms\n",
            "Wall time: 27.1 ms\n"
          ]
        }
      ]
    },
    {
      "cell_type": "code",
      "source": [
        "%%time\n",
        "# DR推定量に必要な目的変数予測モデルを得る\n",
        "# opeモジュールに実装されている`RegressionModel`に好みの機械学習手法を与えば良い\n",
        "regression_model = RegressionModel(\n",
        "    n_actions=dataset.n_actions, # 行動の数\n",
        "    base_model=LogisticRegression(C=100, random_state=12345), # ロジスティック回帰を使用\n",
        ")\n",
        "\n",
        "# `fit_predict`メソッドにより、バリデーションデータにおける期待報酬を推定\n",
        "estimated_rewards_by_reg_model = regression_model.fit_predict(\n",
        "    context=validation_data[\"context\"], # 特徴量\n",
        "    action=validation_data[\"action\"], # 過去の意思決定モデル\\pi_bによる行動選択\n",
        "    reward=validation_data[\"reward\"], # 観測される目的変数\n",
        "    random_state=12345,\n",
        ")"
      ],
      "metadata": {
        "colab": {
          "base_uri": "https://localhost:8080/"
        },
        "id": "CSEK3d8T9RcY",
        "outputId": "846b3108-63ab-4ab2-8b28-35c61b2e7d36"
      },
      "execution_count": null,
      "outputs": [
        {
          "output_type": "stream",
          "name": "stdout",
          "text": [
            "CPU times: user 21.7 ms, sys: 18 ms, total: 39.7 ms\n",
            "Wall time: 41.9 ms\n"
          ]
        }
      ]
    },
    {
      "cell_type": "code",
      "source": [
        "# 意思決定モデルの性能評価を一気通貫で行うための`OffPolicyEvaluation`を定義する\n",
        "ope = OffPolicyEvaluation(\n",
        "    bandit_feedback=validation_data, # バリデーションデータ\n",
        "    ope_estimators=[IPS(estimator_name=\"IPS\"), DR()] # 使用する推定量\n",
        ")"
      ],
      "metadata": {
        "id": "0oEKKoWv9RfU"
      },
      "execution_count": null,
      "outputs": []
    },
    {
      "cell_type": "code",
      "source": [
        "# IPWLearner+ロジスティック回帰の性能をIPS推定量とDR推定量で評価\n",
        "ope.visualize_off_policy_estimates_of_multiple_policies(\n",
        "    policy_name_list=[\"IPWLearner\", \"Random\"],\n",
        "    action_dist_list=[\n",
        "        action_choice_by_ipw_learner, # IPWLearnerによるバリデーションデータに対する行動選択\n",
        "        action_choice_by_random, # ランダム意思決定モデルによるバリデーションデータに対する行動選択\n",
        "    ],\n",
        "    estimated_rewards_by_reg_model=estimated_rewards_by_reg_model, # DR推定量に必要な期待報酬推定値\n",
        "    random_state=12345,\n",
        ")"
      ],
      "metadata": {
        "colab": {
          "base_uri": "https://localhost:8080/",
          "height": 753
        },
        "id": "YGa2Y0nB9RiX",
        "outputId": "5fc109ed-661a-4e3b-9111-ab350368d0e4"
      },
      "execution_count": null,
      "outputs": [
        {
          "output_type": "display_data",
          "data": {
            "text/plain": [
              "<Figure size 576x892.8 with 2 Axes>"
            ],
            "image/png": "[encoded data removed]"
          },
          "metadata": {}
        }
      ]
    },
    {
      "cell_type": "code",
      "source": [
        "# ipw_learnerとrandomの真の性能を計算する\n",
        "# これは、`SyntheticBanditDataset`の`cal_ground_truth_policy_value`メソッドを呼び出すことで計算できる\n",
        "performance_of_ipw_learner = dataset.calc_ground_truth_policy_value(\n",
        "    expected_reward=validation_data['expected_reward'], # バリデーションデータにおける期待報酬\n",
        "    action_dist=action_choice_by_ipw_learner, # 評価対象の意思決定モデルによる行動選択確率\n",
        ")\n",
        "performance_of_random = dataset.calc_ground_truth_policy_value(\n",
        "    expected_reward=validation_data['expected_reward'], # バリデーションデータにおける期待報酬\n",
        "    action_dist=action_choice_by_random, # 評価対象の意思決定モデルによる行動選択確率\n",
        ")\n",
        "\n",
        "print(f'IPWLearner+ロジスティック回帰の性能: {performance_of_ipw_learner}')\n",
        "print(f'ランダム意思決定モデルの性能: {performance_of_random}')"
      ],
      "metadata": {
        "colab": {
          "base_uri": "https://localhost:8080/"
        },
        "id": "DVhamj67-MWJ",
        "outputId": "1fcf058f-0e0a-468e-90f9-b4caa9b27409"
      },
      "execution_count": null,
      "outputs": [
        {
          "output_type": "stream",
          "name": "stdout",
          "text": [
            "IPWLearner+ロジスティック回帰の性能: 0.5598984377089692\n",
            "ランダム意思決定モデルの性能: 0.5015716585425379\n"
          ]
        }
      ]
    },
    {
      "cell_type": "code",
      "source": [
        ""
      ],
      "metadata": {
        "id": "Lc3Q63WS-MY8"
      },
      "execution_count": null,
      "outputs": []
    }
  ]
}